{
 "cells": [
  {
   "cell_type": "markdown",
   "metadata": {},
   "source": [
    "# PIV Lab Visualisation of the preperation"
   ]
  },
  {
   "cell_type": "code",
   "execution_count": 1,
   "metadata": {},
   "outputs": [],
   "source": [
    "import numpy as np\n",
    "import matplotlib.pyplot as plt\n",
    "import PIV_functions as piv_f"
   ]
  },
  {
   "cell_type": "markdown",
   "metadata": {},
   "source": [
    "## Initialisation\n"
   ]
  },
  {
   "cell_type": "code",
   "execution_count": 2,
   "metadata": {
    "collapsed": false
   },
   "outputs": [],
   "source": [
    "# Camera Specs\n",
    "Npix_horizontal: int = 1628\n",
    "Npix_vertical: int = 1236\n",
    "Camera_aspect_ratio = Npix_horizontal / Npix_vertical  # horizontal / vertical\n",
    "Pixel_pitch = 4.40                              # [micro m]\n",
    "\n",
    "Max_recording_rate = 8.3                        # [Hz]\n",
    "Min_separation_time = 1 / Max_recording_rate    # [s]\n",
    "\n",
    "Camera_focal_length = 35.                       # [mm]\n",
    "fStop_min, fStop_max = 2.8, 32\n",
    "\n",
    "chord_length = 10                               # [cm]\n",
    "\n",
    "# Object specs\n",
    "Chord_length = 0.1                              # [m]\n",
    "FOV_to_chord = 1.5                              # [-]\n",
    "\n",
    "# Laser specs\n",
    "Wavelength = 532e-3  # in [micro m]\n",
    "\n",
    "# Tracing particle specs\n",
    "Particle_mean_diameter = 1.068  # in [micro m]\n",
    "\n",
    "# Selected fStop\n",
    "fStop = 9.7\n",
    "D_tau_init = 3             # [pixels]\n",
    "\n",
    "Window_size  =   [64,32,16]  # [pixels]\n",
    "Velocity     =   10          # [m/s]\n",
    "\n",
    "D_p = 1*10**-6               # [m]\n"
   ]
  },
  {
   "cell_type": "markdown",
   "metadata": {},
   "source": [
    "## Calculations"
   ]
  },
  {
   "cell_type": "markdown",
   "metadata": {},
   "source": [
    "### Questions 1-3; FOV, magnification and distances"
   ]
  },
  {
   "cell_type": "code",
   "execution_count": 3,
   "metadata": {
    "collapsed": false
   },
   "outputs": [],
   "source": [
    "FOV_length = FOV_to_chord * Chord_length        # [m]\n",
    "FOV_height = FOV_length / Camera_aspect_ratio   # [m]\n",
    "\n",
    "Magnification_factor = Npix_horizontal * Pixel_pitch * 1e-6 / FOV_length\n",
    "Object_distance = Camera_focal_length * (1 + 1 / Magnification_factor)  # in [mm]\n",
    "Image_distance = Camera_focal_length * (1 + Magnification_factor)  # in [mm]"
   ]
  },
  {
   "cell_type": "markdown",
   "metadata": {},
   "source": [
    "### Questions 4 and 5; aperture and delta_t"
   ]
  },
  {
   "cell_type": "code",
   "execution_count": 7,
   "metadata": {},
   "outputs": [],
   "source": [
    "# from fStop to D_tau\n",
    "D_diff = 2.44 * Wavelength*10**-6 * fStop * (Magnification_factor+1)   # [m]\n",
    "D_geo  = Magnification_factor*D_p\n",
    "D_tau   = np.sqrt((D_geo)**2 + D_diff**2)           # [m]\n",
    "D_tau_pixels = D_tau / (Pixel_pitch*10**-6)                            # [pixels]\n",
    "\n",
    "# from D_tau to fStop\n",
    "D_tau_init_in_m = D_tau_init * Pixel_pitch\n",
    "D_diff_2 = np.sqrt(D_tau_init_in_m**2 - D_geo**2)\n",
    "fStop_set_D_tau = D_diff_2 / ( 2.44 * Wavelength * (1 + Magnification_factor))\n",
    "\n",
    "# Delta t\n",
    "Delta_t = []\n",
    "for window in Window_size:\n",
    "    window_size_in_m = window * Pixel_pitch * 10**(-6)\n",
    "    delta_t = 0.25 * window_size_in_m / (Magnification_factor * Velocity)\n",
    "    Delta_t.append(delta_t)\n"
   ]
  },
  {
   "cell_type": "markdown",
   "metadata": {},
   "source": [
    "## Visualisation of the results\n",
    "\n"
   ]
  },
  {
   "cell_type": "code",
   "execution_count": 20,
   "metadata": {},
   "outputs": [
    {
     "name": "stdout",
     "output_type": "stream",
     "text": [
      "QUESTIONS 1 TO 3 OF THE LAB PREPERATION:\n",
      "----------------------------------------\n",
      "FOV length               0.1500    [m]\n",
      "FOV height               0.1139    [m]\n",
      "Magnification factor M   0.0478    [-]\n",
      "Object distance d_o      767.91    [mm]\n",
      "Image distance d_i       36.671    [mm]\n",
      "\n",
      "QUESTIONS 4 EN 5 OF THE LAB PREPERATION:\n",
      "----------------------------------------\n",
      "\u001b[3m  Using an fStop of 9.7  \u001b[0m\n",
      "D_tau                    2.9984    [pixels]\n",
      "D_tau                    13.193    [micro m]\n",
      "D_diff                   13.193    [micro m]\n",
      "D_p                      1.0000    [micro m]\n",
      "D_geo                    0.0478    [micro m]\n",
      "\n",
      "\u001b[3m  Using a D_tau of 3 pixels \u001b[0m\n",
      "fStop                    9.7054    [-]\n",
      "\n",
      "Delta_t with 16 pixels   36.855    [micro s]\n",
      "Delta_t with 32 pixels   73.710    [micro s]\n",
      "Delta_t with 64 pixels   147.42    [micro s]\n"
     ]
    }
   ],
   "source": [
    "print(f'QUESTIONS 1 TO 3 OF THE LAB PREPERATION:')\n",
    "print(f'----------------------------------------')\n",
    "print(f'FOV length              ',np.format_float_positional(FOV_length, precision=4, unique=False, fractional=False, trim='k'),'   [m]')\n",
    "print(f'FOV height              ',np.format_float_positional(FOV_height, precision=4, unique=False, fractional=False, trim='k'),'   [m]')\n",
    "print(f'Magnification factor M  ',np.format_float_positional(Magnification_factor, precision=3, unique=False, fractional=False, trim='k'),'   [-]')\n",
    "print(f'Object distance d_o     ',np.format_float_positional(Object_distance, precision=5, unique=False, fractional=False, trim='k'),'   [mm]')\n",
    "print(f'Image distance d_i      ',np.format_float_positional(Image_distance, precision=5, unique=False, fractional=False, trim='k'),'   [mm]')\n",
    "\n",
    "print(f'')\n",
    "print(f'QUESTIONS 4 EN 5 OF THE LAB PREPERATION:')\n",
    "print(f'----------------------------------------')\n",
    "print(f'\\x1B[3m  Using an fStop of',fStop,' \\x1B[0m')\n",
    "print(f'D_tau                   ',np.format_float_positional(D_tau_pixels, precision=5, unique=False, fractional=False, trim='k'),'   [pixels]')\n",
    "print(f'D_tau                   ',np.format_float_positional(D_tau*10**6, precision=5, unique=False, fractional=False, trim='k'),'   [micro m]')\n",
    "print(f'D_diff                  ',np.format_float_positional(D_diff*10**6, precision=5, unique=False, fractional=False, trim='k'),'   [micro m]')\n",
    "print(f'D_p                     ',np.format_float_positional(D_p*10**6, precision=5, unique=False, fractional=False, trim='k'),'   [micro m]')\n",
    "print(f'D_geo                   ',np.format_float_positional(D_geo*10**6, precision=3, unique=False, fractional=False, trim='k'),'   [micro m]')\n",
    "print(f'')\n",
    "print(f'\\x1B[3m  Using a D_tau of',D_tau_init,'pixels \\x1B[0m')\n",
    "print(f'fStop                   ',np.format_float_positional(fStop_set_D_tau, precision=5, unique=False, fractional=False, trim='k'),'   [-]')\n",
    "print(f'')\n",
    "print(f'Delta_t with',Window_size[2],'pixels  ',np.format_float_positional(Delta_t[2]*10**6, precision=5, unique=False, fractional=False, trim='k'),'   [micro s]')\n",
    "print(f'Delta_t with',Window_size[1],'pixels  ',np.format_float_positional(Delta_t[1]*10**6, precision=5, unique=False, fractional=False, trim='k'),'   [micro s]')\n",
    "print(f'Delta_t with',Window_size[0],'pixels  ',np.format_float_positional(Delta_t[0]*10**6, precision=5, unique=False, fractional=False, trim='k'),'   [micro s]')\n"
   ]
  },
  {
   "cell_type": "markdown",
   "metadata": {},
   "source": [
    "### Visualistion for f_stop range"
   ]
  },
  {
   "cell_type": "code",
   "execution_count": 6,
   "metadata": {},
   "outputs": [
    {
     "data": {
      "image/png": "[encoded data removed]",
      "text/plain": [
       "<Figure size 640x480 with 1 Axes>"
      ]
     },
     "metadata": {},
     "output_type": "display_data"
    }
   ],
   "source": [
    "# Particle image diameter range\n",
    "fStop_range = np.linspace(fStop_min, fStop_max, 1001)\n",
    "Particle_image_diameter_range = piv_f.particle_image_diameter(Particle_mean_diameter, Magnification_factor, Wavelength,\n",
    "                                                              fStop_range)\n",
    "\n",
    "plt.plot(fStop_range, Particle_image_diameter_range)\n",
    "plt.hlines(Pixel_pitch * 2, fStop_min, fStop_max)\n",
    "plt.hlines(Pixel_pitch * 3, fStop_min, fStop_max)\n",
    "plt.xlabel(\"f#\")\n",
    "plt.ylabel(r\"$d_{\\tau}$ [$\\mu m$]\")\n",
    "plt.grid()\n",
    "plt.show()"
   ]
  },
  {
   "cell_type": "code",
   "execution_count": null,
   "metadata": {
    "collapsed": false
   },
   "outputs": [],
   "source": []
  }
 ],
 "metadata": {
  "kernelspec": {
   "display_name": "Python 3",
   "language": "python",
   "name": "python3"
  },
  "language_info": {
   "codemirror_mode": {
    "name": "ipython",
    "version": 3
   },
   "file_extension": ".py",
   "mimetype": "text/x-python",
   "name": "python",
   "nbconvert_exporter": "python",
   "pygments_lexer": "ipython3",
   "version": "3.11.9"
  }
 },
 "nbformat": 4,
 "nbformat_minor": 2
}
