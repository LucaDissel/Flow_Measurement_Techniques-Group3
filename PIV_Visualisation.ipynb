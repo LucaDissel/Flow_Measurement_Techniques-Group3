{
 "cells": [
  {
   "cell_type": "code",
   "execution_count": null,
   "metadata": {},
   "outputs": [],
   "source": [
    "## add all the setup dingetjes hier\n",
    "import matplotlib.pyplot as plt"
   ]
  },
  {
   "cell_type": "code",
   "execution_count": null,
   "metadata": {},
   "outputs": [],
   "source": [
    "# Particle image diameter range\n",
    "plt.plot(fStop_range, Particle_image_diameter_range)\n",
    "plt.hlines(Pixel_pitch * 2, fStop_min, fStop_max)\n",
    "plt.hlines(Pixel_pitch * 3, fStop_min, fStop_max)\n",
    "plt.xlabel(\"f#\")\n",
    "plt.ylabel(r\"$d_{\\tau}$\")\n",
    "plt.grid()\n",
    "plt.show()"
   ]
  }
 ],
 "metadata": {
  "language_info": {
   "name": "python"
  }
 },
 "nbformat": 4,
 "nbformat_minor": 2
}
