{
 "cells": [
  {
   "cell_type": "markdown",
   "metadata": {},
   "source": [
    "# HWA POST PROCESSING"
   ]
  },
  {
   "cell_type": "markdown",
   "metadata": {},
   "source": [
    "## Initialisation\n"
   ]
  },
  {
   "cell_type": "code",
   "execution_count": 4,
   "metadata": {},
   "outputs": [
    {
     "name": "stdout",
     "output_type": "stream",
     "text": [
      "Sorted Files: ['Measurement_neg40_aoa0.txt', 'Measurement_neg36_aoa0.txt', 'Measurement_neg32_aoa0.txt', 'Measurement_neg28_aoa0.txt', 'Measurement_neg24_aoa0.txt', 'Measurement_neg20_aoa0.txt', 'Measurement_neg16_aoa0.txt', 'Measurement_neg12_aoa0.txt', 'Measurement_neg08_aoa0.txt', 'Measurement_neg04_aoa0.txt', 'Measurement_neg00_aoa0.txt', 'Measurement_pos04_aoa0.txt', 'Measurement_pos08_aoa0.txt', 'Measurement_pos12_aoa0.txt', 'Measurement_pos16_aoa0.txt', 'Measurement_pos20_aoa0.txt', 'Measurement_pos24_aoa0.txt', 'Measurement_pos28_aoa0.txt', 'Measurement_pos32_aoa0.txt', 'Measurement_pos36_aoa0.txt', 'Measurement_pos40_aoa0.txt']\n"
     ]
    }
   ],
   "source": [
    "import pandas as pd\n",
    "import matplotlib.pyplot as plt\n",
    "import os\n",
    "import re\n",
    "\n",
    "# Directory containing the data\n",
    "folder_path = '../HWA_data'                     # Adjust based on the actual relative path\n",
    "folder_path = os.path.normpath(folder_path)     # Normalize path\n",
    "\n",
    "# Assuming a calibration factor for converting voltage to wind speed (e.g., m/s per volt)\n",
    "voltage_to_m_per_s = 2.5                        # Example conversion factor\n",
    "\n",
    "# Helper function to extract the numeric value from filename for sorting\n",
    "def file_sorter(file_name):\n",
    "    match = re.search(r'(?P<sign>neg|pos)(?P<number>\\d+)', file_name)\n",
    "    if match:\n",
    "        sign = -1 if match.group('sign') == 'neg' else 1\n",
    "        return sign * int(match.group('number'))\n",
    "    return 0  # return a default value if no match\n",
    "\n",
    "if os.path.exists(folder_path):\n",
    "    files = [f for f in os.listdir(folder_path) if f.startswith('Measurement') and 'aoa0' in f]\n",
    "    # Sort files based on the numeric value extracted from filenames\n",
    "    files = sorted(files, key=file_sorter)\n"
   ]
  },
  {
   "cell_type": "markdown",
   "metadata": {},
   "source": [
    "## Plotting the data\n"
   ]
  },
  {
   "cell_type": "markdown",
   "metadata": {},
   "source": [
    "So in order to plot the data bla bla bla"
   ]
  },
  {
   "cell_type": "code",
   "execution_count": 2,
   "metadata": {},
   "outputs": [
    {
     "ename": "NameError",
     "evalue": "name 'files' is not defined",
     "output_type": "error",
     "traceback": [
      "\u001b[1;31m---------------------------------------------------------------------------\u001b[0m",
      "\u001b[1;31mNameError\u001b[0m                                 Traceback (most recent call last)",
      "Cell \u001b[1;32mIn[2], line 4\u001b[0m\n\u001b[0;32m      1\u001b[0m plt\u001b[38;5;241m.\u001b[39mfigure(figsize\u001b[38;5;241m=\u001b[39m(\u001b[38;5;241m10\u001b[39m, \u001b[38;5;241m8\u001b[39m))\n\u001b[0;32m      3\u001b[0m \u001b[38;5;66;03m# Loop through each file and plot the data\u001b[39;00m\n\u001b[1;32m----> 4\u001b[0m \u001b[38;5;28;01mfor\u001b[39;00m file_name \u001b[38;5;129;01min\u001b[39;00m \u001b[43mfiles\u001b[49m:\n\u001b[0;32m      5\u001b[0m     file_path \u001b[38;5;241m=\u001b[39m os\u001b[38;5;241m.\u001b[39mpath\u001b[38;5;241m.\u001b[39mjoin(folder_path, file_name)\n\u001b[0;32m      6\u001b[0m     \u001b[38;5;28;01mtry\u001b[39;00m:\n\u001b[0;32m      7\u001b[0m         \u001b[38;5;66;03m# Load the data from the text file, skipping the first 23 lines and setting column names manually\u001b[39;00m\n",
      "\u001b[1;31mNameError\u001b[0m: name 'files' is not defined"
     ]
    },
    {
     "data": {
      "text/plain": [
       "<Figure size 1000x800 with 0 Axes>"
      ]
     },
     "metadata": {},
     "output_type": "display_data"
    }
   ],
   "source": [
    "plt.figure(figsize=(10, 8))\n",
    "\n",
    "# Loop through each file and plot the data\n",
    "for file_name in files:\n",
    "    file_path = os.path.join(folder_path, file_name)\n",
    "    try:\n",
    "        # Load the data from the text file, skipping the first 23 lines and setting column names manually\n",
    "        data = pd.read_csv(file_path, sep=\"\\t\", skiprows=23, header=None, names=['X_Value', 'Voltage'])\n",
    "        \n",
    "        # Convert voltage readings to speed using the calibration factor\n",
    "        data['Speed (m/s)'] = data['Voltage'] * voltage_to_m_per_s\n",
    "        \n",
    "        # Plot the data\n",
    "        plt.plot(data['X_Value'], data['Speed (m/s)'], label=file_name[:-4])  # Trim '.txt' from label\n",
    "    except Exception as e:\n",
    "        print(f\"Failed to read file {file_path}: {e}\")\n",
    "        \n",
    "plt.title('Wind Speed Measurement from HWA at Different Positions')\n",
    "plt.xlabel('Time (s)')\n",
    "plt.ylabel('Wind Speed (m/s)')\n",
    "plt.legend(title=\"File\", loc='upper right')\n",
    "plt.grid(True)\n",
    "plt.show()"
   ]
  }
 ],
 "metadata": {
  "kernelspec": {
   "display_name": "Python 3",
   "language": "python",
   "name": "python3"
  },
  "language_info": {
   "codemirror_mode": {
    "name": "ipython",
    "version": 3
   },
   "file_extension": ".py",
   "mimetype": "text/x-python",
   "name": "python",
   "nbconvert_exporter": "python",
   "pygments_lexer": "ipython3",
   "version": "3.12.3"
  }
 },
 "nbformat": 4,
 "nbformat_minor": 2
}
